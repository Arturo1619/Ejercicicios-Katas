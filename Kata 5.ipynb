{
 "cells": [
  {
   "cell_type": "markdown",
   "metadata": {},
   "source": [
    "# Kata 5"
   ]
  },
  {
   "cell_type": "code",
   "execution_count": 29,
   "metadata": {},
   "outputs": [
    {
     "name": "stdout",
     "output_type": "stream",
     "text": [
      "17\n",
      "17\n",
      "22\n",
      "1084 1084\n",
      "215\n",
      "215.3\n",
      "23 -23\n",
      "23\n",
      "15\n",
      "13\n",
      "12\n"
     ]
    }
   ],
   "source": [
    "seconds = 1042\n",
    "display_minutes = 1042 // 60\n",
    "print(display_minutes)\n",
    "display_seconds = 1042 % 60\n",
    "print(display_minutes)\n",
    "print(display_seconds)\n",
    "result_1 = 1032 + 26 * 2\n",
    "result_2 = 1032 + (26 * 2)\n",
    "print(result_1, result_2)\n",
    "demo_int = int('215')\n",
    "print(demo_int)\n",
    "demo_float = float('215.3')\n",
    "print(demo_float)\n",
    "a = 39 - 16\n",
    "b = 16 - 39\n",
    "print(a, b)\n",
    "print(abs(39 - 16)) or (abs(16 - 39))\n",
    "print(round(14.6))\n",
    "from math import ceil, floor\n",
    "round_up = ceil(12.5)\n",
    "print(round_up)\n",
    "round_down = floor(12.5)\n",
    "print(round_down)"
   ]
  },
  {
   "cell_type": "markdown",
   "metadata": {},
   "source": [
    "Ejercicios"
   ]
  },
  {
   "cell_type": "code",
   "execution_count": 30,
   "metadata": {},
   "outputs": [],
   "source": [
    "tierra = 149597870 # in km \n",
    "jupiter = 778547200 # in km"
   ]
  },
  {
   "cell_type": "code",
   "execution_count": 31,
   "metadata": {},
   "outputs": [
    {
     "name": "stdout",
     "output_type": "stream",
     "text": [
      "628949330\n",
      "390577533.93\n",
      "390577534\n"
     ]
    }
   ],
   "source": [
    "distance_km = jupiter - tierra\n",
    "print(distance_km)\n",
    "mi_distance = distance_km * 0.621\n",
    "print(mi_distance)\n",
    "print(round(mi_distance))\n",
    "#Podria ahorrar esa doble ejecucion pero me sirve para notar que devo hacer"
   ]
  },
  {
   "cell_type": "code",
   "execution_count": 32,
   "metadata": {},
   "outputs": [],
   "source": [
    "tierra = input('distancia del primer planeta al sol en km')\n",
    "jupiter = input('distancia del segundo planeta al sol en km')\n",
    "#aqui las planeta los defini pero en realidas podria ser cualquiera"
   ]
  },
  {
   "cell_type": "code",
   "execution_count": 33,
   "metadata": {},
   "outputs": [],
   "source": [
    "tierra = int(tierra)\n",
    "jupiter = int(jupiter)"
   ]
  },
  {
   "cell_type": "code",
   "execution_count": 34,
   "metadata": {},
   "outputs": [
    {
     "name": "stdout",
     "output_type": "stream",
     "text": [
      "629000000\n",
      "390609000.0\n",
      "390609000\n"
     ]
    }
   ],
   "source": [
    "distance_km = jupiter - tierra\n",
    "print(distance_km)\n",
    "# Convertir de KM a Millas\n",
    "mi_distance = distance_km * 0.621\n",
    "print(mi_distance)\n",
    "print(round(abs(mi_distance)))"
   ]
  }
 ],
 "metadata": {
  "interpreter": {
   "hash": "b3f3aa7efa84ed35a28305bc51dd5ee4dd0c4dae42cd5c60ee7e189036f341ad"
  },
  "kernelspec": {
   "display_name": "Python 3.10.2 64-bit",
   "language": "python",
   "name": "python3"
  },
  "language_info": {
   "codemirror_mode": {
    "name": "ipython",
    "version": 3
   },
   "file_extension": ".py",
   "mimetype": "text/x-python",
   "name": "python",
   "nbconvert_exporter": "python",
   "pygments_lexer": "ipython3",
   "version": "3.10.2"
  },
  "orig_nbformat": 4
 },
 "nbformat": 4,
 "nbformat_minor": 2
}
