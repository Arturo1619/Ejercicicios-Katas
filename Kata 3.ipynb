{
 "cells": [
  {
   "cell_type": "markdown",
   "metadata": {},
   "source": [
    "# Kata 3"
   ]
  },
  {
   "cell_type": "code",
   "execution_count": 5,
   "metadata": {},
   "outputs": [
    {
     "name": "stdout",
     "output_type": "stream",
     "text": [
      "¡Alerta! ¡Un asteroide se acerca a velocidades peligrosas!\n"
     ]
    }
   ],
   "source": [
    "asteroide = 49\n",
    "if asteroide > 25:\n",
    "    print('¡Alerta! ¡Un asteroide se acerca a velocidades peligrosas!')\n",
    "else:\n",
    "    print('¡Sigue con tu día!')"
   ]
  },
  {
   "cell_type": "code",
   "execution_count": 6,
   "metadata": {},
   "outputs": [
    {
     "name": "stdout",
     "output_type": "stream",
     "text": [
      "¡Nada que ver aquí!\n"
     ]
    }
   ],
   "source": [
    "asteroide = 19\n",
    "if asteroide > 20:\n",
    "    print('Look up! ¡Hay una luz mágica en el cielo!')\n",
    "elif asteroide == 20:\n",
    "    print('Look up! ¡Hay una luz mágica en el cielo!')\n",
    "else:\n",
    "    print('¡Nada que ver aquí!')"
   ]
  },
  {
   "cell_type": "code",
   "execution_count": 7,
   "metadata": {},
   "outputs": [
    {
     "name": "stdout",
     "output_type": "stream",
     "text": [
      "Look up! ¡Hay una luz mágica en el cielo!\n"
     ]
    }
   ],
   "source": [
    "velocidad_asteroide = 25\n",
    "tamano_asteroide = 40\n",
    "if velocidad_asteroide > 25 and tamano_asteroide > 25:\n",
    "    print('¡Alerta, Un asteroide muy peligroso viene hacia la Tierra!')\n",
    "elif velocidad_asteroide >= 20:\n",
    "    print('Look up! ¡Hay una luz mágica en el cielo!')\n",
    "elif tamano_asteroide < 25:\n",
    "    print('Nada que ver aquí :)')\n",
    "else:\n",
    "    print('Nada que ver aquí :)')"
   ]
  },
  {
   "cell_type": "code",
   "execution_count": 7,
   "metadata": {},
   "outputs": [
    {
     "name": "stdout",
     "output_type": "stream",
     "text": [
      "hacer ejercicio \n"
     ]
    }
   ],
   "source": [
    "ejercicio = 45\n",
    "if ejercicio >9:\n",
    "    print('hacer ejercicio ')\n",
    "else:\n",
    "    print('levantate a hacer ejercicio')\n",
    " \n"
   ]
  },
  {
   "cell_type": "code",
   "execution_count": 10,
   "metadata": {},
   "outputs": [
    {
     "name": "stdout",
     "output_type": "stream",
     "text": [
      "ejercicio realizado\n"
     ]
    }
   ],
   "source": [
    "ejercicio = 45\n",
    "if ejercicio > 20:\n",
    "    print('ejercicio realizado')\n",
    "elif  ejercicio == 20:\n",
    "    print('ejercicio realizado')\n",
    "else:\n",
    "    print('hacer ejercicio')"
   ]
  },
  {
   "cell_type": "code",
   "execution_count": 15,
   "metadata": {},
   "outputs": [
    {
     "name": "stdout",
     "output_type": "stream",
     "text": [
      "aun te falta ejercicio\n"
     ]
    }
   ],
   "source": [
    "ejercicio = 10\n",
    "hora = 30.00\n",
    "if ejercicio > 10 and hora > 30.00:\n",
    "    print('ejercicios completos')\n",
    "elif ejercicio >= 9:\n",
    "    print('aun te falta ejercicio')\n",
    "elif hora>= 28.4:\n",
    "    print('falta poco')\n",
    "else:\n",
    "    print('no te rindas campeon')"
   ]
  },
  {
   "cell_type": "code",
   "execution_count": 27,
   "metadata": {},
   "outputs": [
    {
     "name": "stdout",
     "output_type": "stream",
     "text": [
      "no te rindas campeon\n"
     ]
    }
   ],
   "source": [
    "ejercicio = 10\n",
    "hora = 30.00\n",
    "if ejercicio < 10 and hora > 30.00:\n",
    "    print('ejercicios completos')\n",
    "elif ejercicio > 10:\n",
    "    print('aun te falta ejercicio')\n",
    "elif hora < 30.00:\n",
    "    print('falta poco')\n",
    "else:\n",
    "    print('no te rindas campeon')"
   ]
  }
 ],
 "metadata": {
  "interpreter": {
   "hash": "b3f3aa7efa84ed35a28305bc51dd5ee4dd0c4dae42cd5c60ee7e189036f341ad"
  },
  "kernelspec": {
   "display_name": "Python 3.10.2 64-bit",
   "language": "python",
   "name": "python3"
  },
  "language_info": {
   "codemirror_mode": {
    "name": "ipython",
    "version": 3
   },
   "file_extension": ".py",
   "mimetype": "text/x-python",
   "name": "python",
   "nbconvert_exporter": "python",
   "pygments_lexer": "ipython3",
   "version": "3.10.2"
  },
  "orig_nbformat": 4
 },
 "nbformat": 4,
 "nbformat_minor": 2
}
